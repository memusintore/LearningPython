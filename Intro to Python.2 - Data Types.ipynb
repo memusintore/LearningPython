{
 "cells": [
  {
   "cell_type": "markdown",
   "id": "b895946c",
   "metadata": {},
   "source": [
    "# Data Types"
   ]
  },
  {
   "cell_type": "markdown",
   "id": "6a91110e",
   "metadata": {},
   "source": [
    "# Numberic Data"
   ]
  },
  {
   "cell_type": "code",
   "execution_count": 1,
   "id": "fa74131a",
   "metadata": {},
   "outputs": [],
   "source": [
    "# let's look at numeric data types: integers, floats, complex numbers"
   ]
  },
  {
   "cell_type": "code",
   "execution_count": 2,
   "id": "b0902dc0",
   "metadata": {},
   "outputs": [
    {
     "data": {
      "text/plain": [
       "int"
      ]
     },
     "execution_count": 2,
     "metadata": {},
     "output_type": "execute_result"
    }
   ],
   "source": [
    "type(12)"
   ]
  },
  {
   "cell_type": "code",
   "execution_count": 3,
   "id": "72108d9b",
   "metadata": {},
   "outputs": [
    {
     "data": {
      "text/plain": [
       "int"
      ]
     },
     "execution_count": 3,
     "metadata": {},
     "output_type": "execute_result"
    }
   ],
   "source": [
    "type(-12)"
   ]
  },
  {
   "cell_type": "code",
   "execution_count": 4,
   "id": "06c8e232",
   "metadata": {},
   "outputs": [
    {
     "data": {
      "text/plain": [
       "int"
      ]
     },
     "execution_count": 4,
     "metadata": {},
     "output_type": "execute_result"
    }
   ],
   "source": [
    "type(-12 + 100)"
   ]
  },
  {
   "cell_type": "code",
   "execution_count": 5,
   "id": "60de524e",
   "metadata": {},
   "outputs": [
    {
     "data": {
      "text/plain": [
       "float"
      ]
     },
     "execution_count": 5,
     "metadata": {},
     "output_type": "execute_result"
    }
   ],
   "source": [
    "type(10.25)"
   ]
  },
  {
   "cell_type": "code",
   "execution_count": 6,
   "id": "eeea93f8",
   "metadata": {},
   "outputs": [
    {
     "data": {
      "text/plain": [
       "float"
      ]
     },
     "execution_count": 6,
     "metadata": {},
     "output_type": "execute_result"
    }
   ],
   "source": [
    "type(12+10.25)"
   ]
  },
  {
   "cell_type": "code",
   "execution_count": 9,
   "id": "a7de291c",
   "metadata": {},
   "outputs": [
    {
     "data": {
      "text/plain": [
       "complex"
      ]
     },
     "execution_count": 9,
     "metadata": {},
     "output_type": "execute_result"
    }
   ],
   "source": [
    "type(12 + 3j)\n",
    "\n",
    "# 'j' is the only value that works for a complex number"
   ]
  },
  {
   "cell_type": "markdown",
   "id": "f3d2148e",
   "metadata": {},
   "source": [
    "# Boolean Data"
   ]
  },
  {
   "cell_type": "code",
   "execution_count": 10,
   "id": "95517f63",
   "metadata": {},
   "outputs": [],
   "source": [
    "# let's look at Boolean data types: true or false"
   ]
  },
  {
   "cell_type": "code",
   "execution_count": 11,
   "id": "b8b3bb6b",
   "metadata": {},
   "outputs": [
    {
     "data": {
      "text/plain": [
       "bool"
      ]
     },
     "execution_count": 11,
     "metadata": {},
     "output_type": "execute_result"
    }
   ],
   "source": [
    "type(False)"
   ]
  },
  {
   "cell_type": "code",
   "execution_count": 12,
   "id": "ac190ed6",
   "metadata": {},
   "outputs": [
    {
     "ename": "NameError",
     "evalue": "name 'false' is not defined",
     "output_type": "error",
     "traceback": [
      "\u001b[1;31m---------------------------------------------------------------------------\u001b[0m",
      "\u001b[1;31mNameError\u001b[0m                                 Traceback (most recent call last)",
      "Cell \u001b[1;32mIn[12], line 1\u001b[0m\n\u001b[1;32m----> 1\u001b[0m \u001b[38;5;28mtype\u001b[39m(\u001b[43mfalse\u001b[49m)\n",
      "\u001b[1;31mNameError\u001b[0m: name 'false' is not defined"
     ]
    }
   ],
   "source": [
    "type(false)"
   ]
  },
  {
   "cell_type": "code",
   "execution_count": 13,
   "id": "af9ee019",
   "metadata": {},
   "outputs": [
    {
     "data": {
      "text/plain": [
       "bool"
      ]
     },
     "execution_count": 13,
     "metadata": {},
     "output_type": "execute_result"
    }
   ],
   "source": [
    "type(1 > 5)"
   ]
  },
  {
   "cell_type": "code",
   "execution_count": 14,
   "id": "f8d48f09",
   "metadata": {},
   "outputs": [
    {
     "data": {
      "text/plain": [
       "False"
      ]
     },
     "execution_count": 14,
     "metadata": {},
     "output_type": "execute_result"
    }
   ],
   "source": [
    "1 > 5"
   ]
  },
  {
   "cell_type": "code",
   "execution_count": 15,
   "id": "c8e570d1",
   "metadata": {},
   "outputs": [
    {
     "data": {
      "text/plain": [
       "True"
      ]
     },
     "execution_count": 15,
     "metadata": {},
     "output_type": "execute_result"
    }
   ],
   "source": [
    "1 == 1"
   ]
  },
  {
   "cell_type": "markdown",
   "id": "dfd783cb",
   "metadata": {},
   "source": [
    "# String Data "
   ]
  },
  {
   "cell_type": "code",
   "execution_count": 16,
   "id": "4f9a2053",
   "metadata": {},
   "outputs": [],
   "source": [
    "#let's look at string data types"
   ]
  },
  {
   "cell_type": "code",
   "execution_count": 17,
   "id": "2aa44223",
   "metadata": {},
   "outputs": [
    {
     "data": {
      "text/plain": [
       "'Single Quote'"
      ]
     },
     "execution_count": 17,
     "metadata": {},
     "output_type": "execute_result"
    }
   ],
   "source": [
    "'Single Quote'"
   ]
  },
  {
   "cell_type": "code",
   "execution_count": 18,
   "id": "4582451b",
   "metadata": {},
   "outputs": [
    {
     "data": {
      "text/plain": [
       "'Double Quote'"
      ]
     },
     "execution_count": 18,
     "metadata": {},
     "output_type": "execute_result"
    }
   ],
   "source": [
    "\"Double Quote\""
   ]
  },
  {
   "cell_type": "code",
   "execution_count": 19,
   "id": "c4d00d65",
   "metadata": {},
   "outputs": [
    {
     "data": {
      "text/plain": [
       "'\\nThe ice cream vanquished \\nmy longing for sweets,\\nupon this diet I look away,\\nit no longer exists on this day.\\n\\n'"
      ]
     },
     "execution_count": 19,
     "metadata": {},
     "output_type": "execute_result"
    }
   ],
   "source": [
    "\"\"\"\n",
    "The ice cream vanquished \n",
    "my longing for sweets,\n",
    "upon this diet I look away,\n",
    "it no longer exists on this day.\n",
    "\n",
    "\"\"\""
   ]
  },
  {
   "cell_type": "code",
   "execution_count": 20,
   "id": "7265c1a3",
   "metadata": {},
   "outputs": [],
   "source": [
    "multiline_quotes = \"\"\"\n",
    "The ice cream vanquished \n",
    "my longing for sweets,\n",
    "upon this diet I look away,\n",
    "it no longer exists on this day.\n",
    "\n",
    "\"\"\""
   ]
  },
  {
   "cell_type": "code",
   "execution_count": 21,
   "id": "435eab1f",
   "metadata": {},
   "outputs": [
    {
     "name": "stdout",
     "output_type": "stream",
     "text": [
      "\n",
      "The ice cream vanquished \n",
      "my longing for sweets,\n",
      "upon this diet I look away,\n",
      "it no longer exists on this day.\n",
      "\n",
      "\n"
     ]
    }
   ],
   "source": [
    "print(multiline_quotes)"
   ]
  },
  {
   "cell_type": "code",
   "execution_count": 22,
   "id": "a2a76335",
   "metadata": {},
   "outputs": [
    {
     "ename": "SyntaxError",
     "evalue": "invalid syntax (479833257.py, line 1)",
     "output_type": "error",
     "traceback": [
      "\u001b[1;36m  Cell \u001b[1;32mIn[22], line 1\u001b[1;36m\u001b[0m\n\u001b[1;33m    'I've always wanted to eat a gallon of ice cream.''\u001b[0m\n\u001b[1;37m       ^\u001b[0m\n\u001b[1;31mSyntaxError\u001b[0m\u001b[1;31m:\u001b[0m invalid syntax\n"
     ]
    }
   ],
   "source": [
    "'I've always wanted to eat a gallon of ice cream.''"
   ]
  },
  {
   "cell_type": "code",
   "execution_count": 23,
   "id": "128eaf3d",
   "metadata": {},
   "outputs": [
    {
     "data": {
      "text/plain": [
       "\"I've always wanted to eat a gallon of ice cream.\""
      ]
     },
     "execution_count": 23,
     "metadata": {},
     "output_type": "execute_result"
    }
   ],
   "source": [
    "\"I've always wanted to eat a gallon of ice cream.\""
   ]
  },
  {
   "cell_type": "code",
   "execution_count": 24,
   "id": "869c95b9",
   "metadata": {},
   "outputs": [
    {
     "ename": "SyntaxError",
     "evalue": "unterminated string literal (detected at line 1) (3839300216.py, line 1)",
     "output_type": "error",
     "traceback": [
      "\u001b[1;36m  Cell \u001b[1;32mIn[24], line 1\u001b[1;36m\u001b[0m\n\u001b[1;33m    \"My wife told me \"don't go in there!\"\"\u001b[0m\n\u001b[1;37m                         ^\u001b[0m\n\u001b[1;31mSyntaxError\u001b[0m\u001b[1;31m:\u001b[0m unterminated string literal (detected at line 1)\n"
     ]
    }
   ],
   "source": [
    "\"My wife told me \"don't go in there!\"\""
   ]
  },
  {
   "cell_type": "code",
   "execution_count": 25,
   "id": "9faeeef5",
   "metadata": {},
   "outputs": [
    {
     "data": {
      "text/plain": [
       "'\\nMy wife told me \"don\\'t go in there!\"\\n'"
      ]
     },
     "execution_count": 25,
     "metadata": {},
     "output_type": "execute_result"
    }
   ],
   "source": [
    "\"\"\"\n",
    "My wife told me \"don't go in there!\"\n",
    "\"\"\""
   ]
  },
  {
   "cell_type": "code",
   "execution_count": 26,
   "id": "63cc9ff2",
   "metadata": {},
   "outputs": [
    {
     "name": "stdout",
     "output_type": "stream",
     "text": [
      "\n",
      "My wife told me \"don't go in there!\"\n",
      "\n"
     ]
    }
   ],
   "source": [
    "direct_quote = \"\"\"\n",
    "My wife told me \"don't go in there!\"\n",
    "\"\"\"\n",
    "\n",
    "print(direct_quote)"
   ]
  },
  {
   "cell_type": "markdown",
   "id": "406c220a",
   "metadata": {},
   "source": [
    "# Indexing"
   ]
  },
  {
   "cell_type": "code",
   "execution_count": 27,
   "id": "994100cf",
   "metadata": {},
   "outputs": [],
   "source": [
    "# indexing tells us the position of characters in a string, or items in a list"
   ]
  },
  {
   "cell_type": "code",
   "execution_count": 28,
   "id": "31b80bfd",
   "metadata": {},
   "outputs": [
    {
     "name": "stdout",
     "output_type": "stream",
     "text": [
      "Hello World!\n"
     ]
    }
   ],
   "source": [
    "a = 'Hello World!'\n",
    "print(a)"
   ]
  },
  {
   "cell_type": "code",
   "execution_count": 31,
   "id": "00e13c73",
   "metadata": {},
   "outputs": [
    {
     "name": "stdout",
     "output_type": "stream",
     "text": [
      "Hello\n"
     ]
    }
   ],
   "source": [
    "# this will give us all characters from position 0 up to position 5\n",
    "print(a[:5])"
   ]
  },
  {
   "cell_type": "code",
   "execution_count": 33,
   "id": "fe226129",
   "metadata": {},
   "outputs": [
    {
     "name": "stdout",
     "output_type": "stream",
     "text": [
      "o\n"
     ]
    }
   ],
   "source": [
    "# this will give us the character in position 4, which is the 5th character since indexing starts with 0\n",
    "print(a[4])"
   ]
  },
  {
   "cell_type": "code",
   "execution_count": 34,
   "id": "70997950",
   "metadata": {},
   "outputs": [
    {
     "name": "stdout",
     "output_type": "stream",
     "text": [
      "r\n"
     ]
    }
   ],
   "source": [
    "# the negative index will give us the character that is 4th from the end\n",
    "print(a[-4])"
   ]
  },
  {
   "cell_type": "code",
   "execution_count": 35,
   "id": "b148c991",
   "metadata": {},
   "outputs": [
    {
     "name": "stdout",
     "output_type": "stream",
     "text": [
      "llo\n"
     ]
    }
   ],
   "source": [
    "print(a[2:5])"
   ]
  },
  {
   "cell_type": "code",
   "execution_count": 36,
   "id": "1a06e8c5",
   "metadata": {},
   "outputs": [
    {
     "data": {
      "text/plain": [
       "'Hello World!Hello World!Hello World!'"
      ]
     },
     "execution_count": 36,
     "metadata": {},
     "output_type": "execute_result"
    }
   ],
   "source": [
    "a*3"
   ]
  },
  {
   "cell_type": "code",
   "execution_count": 37,
   "id": "c0f21654",
   "metadata": {},
   "outputs": [
    {
     "data": {
      "text/plain": [
       "'Hello World!Hello World!'"
      ]
     },
     "execution_count": 37,
     "metadata": {},
     "output_type": "execute_result"
    }
   ],
   "source": [
    "a+a"
   ]
  },
  {
   "cell_type": "markdown",
   "id": "564256d6",
   "metadata": {},
   "source": [
    "# Lists"
   ]
  },
  {
   "cell_type": "code",
   "execution_count": 38,
   "id": "9f200fbc",
   "metadata": {},
   "outputs": [],
   "source": [
    "# lists are valuable because they have the ability to store multiple individual values"
   ]
  },
  {
   "cell_type": "code",
   "execution_count": 39,
   "id": "fb48975a",
   "metadata": {},
   "outputs": [
    {
     "data": {
      "text/plain": [
       "[1, 2, 3]"
      ]
     },
     "execution_count": 39,
     "metadata": {},
     "output_type": "execute_result"
    }
   ],
   "source": [
    "# list\n",
    "\n",
    "[1, 2, 3]"
   ]
  },
  {
   "cell_type": "code",
   "execution_count": 41,
   "id": "40fed0ad",
   "metadata": {},
   "outputs": [
    {
     "name": "stdout",
     "output_type": "stream",
     "text": [
      "[1, 2, 3]\n"
     ]
    }
   ],
   "source": [
    "my_list = [1,2,3]\n",
    "\n",
    "print(my_list)"
   ]
  },
  {
   "cell_type": "code",
   "execution_count": 42,
   "id": "5cb6a2f9",
   "metadata": {},
   "outputs": [
    {
     "name": "stdout",
     "output_type": "stream",
     "text": [
      "1\n"
     ]
    }
   ],
   "source": [
    "print(my_list[0])"
   ]
  },
  {
   "cell_type": "code",
   "execution_count": 43,
   "id": "95812ea0",
   "metadata": {},
   "outputs": [
    {
     "name": "stdout",
     "output_type": "stream",
     "text": [
      "['Christmas', 'Channukah', 'Kwanza']\n"
     ]
    }
   ],
   "source": [
    "other_list = ['Christmas', 'Channukah', 'Kwanza']\n",
    "\n",
    "print(other_list)"
   ]
  },
  {
   "cell_type": "code",
   "execution_count": 44,
   "id": "605f78f8",
   "metadata": {},
   "outputs": [
    {
     "name": "stdout",
     "output_type": "stream",
     "text": [
      "Christmas\n"
     ]
    }
   ],
   "source": [
    "print(other_list[0])"
   ]
  },
  {
   "cell_type": "code",
   "execution_count": 45,
   "id": "97a2ccd4",
   "metadata": {},
   "outputs": [
    {
     "data": {
      "text/plain": [
       "['Christmas', 'Channukah', 'Kwanza', 'Eid Mubarak']"
      ]
     },
     "execution_count": 45,
     "metadata": {},
     "output_type": "execute_result"
    }
   ],
   "source": [
    "other_list.append('Eid Mubarak')\n",
    "\n",
    "other_list"
   ]
  },
  {
   "cell_type": "code",
   "execution_count": 46,
   "id": "c28677a8",
   "metadata": {},
   "outputs": [
    {
     "data": {
      "text/plain": [
       "'Kwanza'"
      ]
     },
     "execution_count": 46,
     "metadata": {},
     "output_type": "execute_result"
    }
   ],
   "source": [
    "other_list[2]"
   ]
  },
  {
   "cell_type": "code",
   "execution_count": 47,
   "id": "ae078ff6",
   "metadata": {},
   "outputs": [
    {
     "data": {
      "text/plain": [
       "['Advent', 'Channukah', 'Kwanza', 'Eid Mubarak']"
      ]
     },
     "execution_count": 47,
     "metadata": {},
     "output_type": "execute_result"
    }
   ],
   "source": [
    "other_list[0] = 'Advent'\n",
    "\n",
    "other_list"
   ]
  },
  {
   "cell_type": "code",
   "execution_count": 48,
   "id": "287f2a8f",
   "metadata": {},
   "outputs": [],
   "source": [
    "# a nested list is a list within a list\n",
    "\n",
    "nes_list = ['Channukah', ['Advent', 'Noche Buena', 'Christmas'], 'Kwanza', 'Eid Mubarak']"
   ]
  },
  {
   "cell_type": "code",
   "execution_count": 50,
   "id": "1e20362f",
   "metadata": {},
   "outputs": [
    {
     "data": {
      "text/plain": [
       "['Advent', 'Noche Buena', 'Christmas']"
      ]
     },
     "execution_count": 50,
     "metadata": {},
     "output_type": "execute_result"
    }
   ],
   "source": [
    "nes_list[1]"
   ]
  },
  {
   "cell_type": "code",
   "execution_count": 51,
   "id": "b4b40661",
   "metadata": {},
   "outputs": [
    {
     "data": {
      "text/plain": [
       "'Christmas'"
      ]
     },
     "execution_count": 51,
     "metadata": {},
     "output_type": "execute_result"
    }
   ],
   "source": [
    "nes_list[1][2]"
   ]
  },
  {
   "cell_type": "markdown",
   "id": "0bea0ac2",
   "metadata": {},
   "source": [
    "# Tuples"
   ]
  },
  {
   "cell_type": "code",
   "execution_count": null,
   "id": "b22471f0",
   "metadata": {},
   "outputs": [],
   "source": [
    "# tuples are very similar to lists with one important exception, tuples are immutable - they cannot be modified... \n",
    "# ...or changed after they've been created"
   ]
  },
  {
   "cell_type": "code",
   "execution_count": 52,
   "id": "2e9242eb",
   "metadata": {},
   "outputs": [],
   "source": [
    "tuple_scoops = (1,2,3,2,1)"
   ]
  },
  {
   "cell_type": "code",
   "execution_count": 53,
   "id": "456b79e6",
   "metadata": {},
   "outputs": [
    {
     "data": {
      "text/plain": [
       "tuple"
      ]
     },
     "execution_count": 53,
     "metadata": {},
     "output_type": "execute_result"
    }
   ],
   "source": [
    "type(tuple_scoops)"
   ]
  },
  {
   "cell_type": "code",
   "execution_count": 54,
   "id": "3c52f868",
   "metadata": {},
   "outputs": [
    {
     "data": {
      "text/plain": [
       "1"
      ]
     },
     "execution_count": 54,
     "metadata": {},
     "output_type": "execute_result"
    }
   ],
   "source": [
    "tuple_scoops[0]"
   ]
  },
  {
   "cell_type": "code",
   "execution_count": 55,
   "id": "2638e663",
   "metadata": {},
   "outputs": [
    {
     "ename": "AttributeError",
     "evalue": "'tuple' object has no attribute 'append'",
     "output_type": "error",
     "traceback": [
      "\u001b[1;31m---------------------------------------------------------------------------\u001b[0m",
      "\u001b[1;31mAttributeError\u001b[0m                            Traceback (most recent call last)",
      "Cell \u001b[1;32mIn[55], line 1\u001b[0m\n\u001b[1;32m----> 1\u001b[0m \u001b[43mtuple_scoops\u001b[49m\u001b[38;5;241;43m.\u001b[39;49m\u001b[43mappend\u001b[49m(\u001b[38;5;241m3\u001b[39m)\n",
      "\u001b[1;31mAttributeError\u001b[0m: 'tuple' object has no attribute 'append'"
     ]
    }
   ],
   "source": [
    "tuple_scoops.append(3)"
   ]
  },
  {
   "cell_type": "code",
   "execution_count": null,
   "id": "77985c84",
   "metadata": {},
   "outputs": [],
   "source": [
    "# typically tuples are used for data that you know is never going to change - i.e a city name or country name, etc."
   ]
  },
  {
   "cell_type": "markdown",
   "id": "2394216d",
   "metadata": {},
   "source": [
    "# Sets"
   ]
  },
  {
   "cell_type": "code",
   "execution_count": 56,
   "id": "cc972031",
   "metadata": {},
   "outputs": [],
   "source": [
    "# sets are somewhat similar to lists & tuples but the difference being that sets don't have any duplicate elements\n",
    "# also sets are unordered, so the elements in a set can't be accessed using indexing"
   ]
  },
  {
   "cell_type": "code",
   "execution_count": 57,
   "id": "ea0c1c92",
   "metadata": {},
   "outputs": [],
   "source": [
    "daily_pints = {1,2,3}"
   ]
  },
  {
   "cell_type": "code",
   "execution_count": 58,
   "id": "14dc0e59",
   "metadata": {},
   "outputs": [
    {
     "data": {
      "text/plain": [
       "set"
      ]
     },
     "execution_count": 58,
     "metadata": {},
     "output_type": "execute_result"
    }
   ],
   "source": [
    "type(daily_pints)"
   ]
  },
  {
   "cell_type": "code",
   "execution_count": 60,
   "id": "30c9c4e2",
   "metadata": {},
   "outputs": [
    {
     "name": "stdout",
     "output_type": "stream",
     "text": [
      "{1, 2, 3}\n"
     ]
    }
   ],
   "source": [
    "print(daily_pints)"
   ]
  },
  {
   "cell_type": "code",
   "execution_count": 61,
   "id": "fed77623",
   "metadata": {},
   "outputs": [
    {
     "name": "stdout",
     "output_type": "stream",
     "text": [
      "{1, 2, 3, 4, 5, 6, 7, 8, 9, 45, 23}\n"
     ]
    }
   ],
   "source": [
    "daily_pints_log = {1,2,3,23,45,4,5,6,7,3,4,6,9,9,8,7}\n",
    "\n",
    "# when printing the elements of a set, it will only return the unique values of that set, \n",
    "#useful when comparing unique values of one set to the unique values of another set\n",
    "\n",
    "print(daily_pints_log)"
   ]
  },
  {
   "cell_type": "code",
   "execution_count": 62,
   "id": "af43cc92",
   "metadata": {},
   "outputs": [],
   "source": [
    "wife_daily_pints_log = {2,4,6,2,4,3,6,8,5,4,3,3,3,0}"
   ]
  },
  {
   "cell_type": "code",
   "execution_count": 63,
   "id": "6944aafd",
   "metadata": {},
   "outputs": [
    {
     "name": "stdout",
     "output_type": "stream",
     "text": [
      "{0, 2, 3, 4, 5, 6, 8}\n"
     ]
    }
   ],
   "source": [
    "print(wife_daily_pints_log)"
   ]
  },
  {
   "cell_type": "code",
   "execution_count": 67,
   "id": "e8bf628d",
   "metadata": {},
   "outputs": [
    {
     "name": "stdout",
     "output_type": "stream",
     "text": [
      "{0, 1, 2, 3, 4, 5, 6, 7, 8, 9, 45, 23}\n"
     ]
    }
   ],
   "source": [
    "# using the \"|\" will show all of the combined unique values between the two sets\n",
    "\n",
    "print(daily_pints_log | wife_daily_pints_log)"
   ]
  },
  {
   "cell_type": "code",
   "execution_count": 66,
   "id": "a92dbb7e",
   "metadata": {},
   "outputs": [
    {
     "name": "stdout",
     "output_type": "stream",
     "text": [
      "{2, 3, 4, 5, 6, 8}\n"
     ]
    }
   ],
   "source": [
    "# using the \"&\" will show the matching unique values between the two sets\n",
    "\n",
    "print(daily_pints_log & wife_daily_pints_log)"
   ]
  },
  {
   "cell_type": "code",
   "execution_count": null,
   "id": "913573cd",
   "metadata": {},
   "outputs": [],
   "source": [
    "# using the \"-\" will show the values in my daily_pints that don't match wife_daily_pints\n",
    "\n",
    "print(daily_pints_log - wife_daily_pints_log)"
   ]
  },
  {
   "cell_type": "code",
   "execution_count": 71,
   "id": "575e77c2",
   "metadata": {},
   "outputs": [
    {
     "name": "stdout",
     "output_type": "stream",
     "text": [
      "{0}\n"
     ]
    }
   ],
   "source": [
    "# reversing the order will show the values in wife_daily_pints that don't match my daily_pints\n",
    "\n",
    "print(wife_daily_pints_log - daily_pints_log)"
   ]
  },
  {
   "cell_type": "code",
   "execution_count": 72,
   "id": "e0c2edb8",
   "metadata": {},
   "outputs": [
    {
     "name": "stdout",
     "output_type": "stream",
     "text": [
      "{0, 1, 7, 9, 45, 23}\n"
     ]
    }
   ],
   "source": [
    "# using the \"^\" will show the values that are in one list or the other, but not in both\n",
    "\n",
    "print(daily_pints_log ^ wife_daily_pints_log)"
   ]
  },
  {
   "cell_type": "markdown",
   "id": "f6a014df",
   "metadata": {},
   "source": [
    "# Dictionaries"
   ]
  },
  {
   "cell_type": "code",
   "execution_count": 73,
   "id": "efa31c40",
   "metadata": {},
   "outputs": [],
   "source": [
    "# dictionaries use a key/value pair where each element is defined by this relationship\n",
    "\n",
    "dict_cream = {'name': 'Memusi Ntore', 'weekly intake': 5, 'favorite flavor': ['Cherry', 'Bananas']}"
   ]
  },
  {
   "cell_type": "code",
   "execution_count": 74,
   "id": "9105e3eb",
   "metadata": {},
   "outputs": [
    {
     "data": {
      "text/plain": [
       "dict"
      ]
     },
     "execution_count": 74,
     "metadata": {},
     "output_type": "execute_result"
    }
   ],
   "source": [
    "type(dict_cream)"
   ]
  },
  {
   "cell_type": "code",
   "execution_count": 75,
   "id": "a5a20099",
   "metadata": {},
   "outputs": [
    {
     "name": "stdout",
     "output_type": "stream",
     "text": [
      "{'name': 'Memusi Ntore', 'weekly intake': 5, 'favorite flavor': ['Cherry', 'Bananas']}\n"
     ]
    }
   ],
   "source": [
    "print(dict_cream)"
   ]
  },
  {
   "cell_type": "code",
   "execution_count": 76,
   "id": "5fbe5ab1",
   "metadata": {},
   "outputs": [
    {
     "data": {
      "text/plain": [
       "dict_values(['Memusi Ntore', 5, ['Cherry', 'Bananas']])"
      ]
     },
     "execution_count": 76,
     "metadata": {},
     "output_type": "execute_result"
    }
   ],
   "source": [
    "dict_cream.values()"
   ]
  },
  {
   "cell_type": "code",
   "execution_count": 77,
   "id": "50d49df2",
   "metadata": {},
   "outputs": [
    {
     "data": {
      "text/plain": [
       "dict_keys(['name', 'weekly intake', 'favorite flavor'])"
      ]
     },
     "execution_count": 77,
     "metadata": {},
     "output_type": "execute_result"
    }
   ],
   "source": [
    "dict_cream.keys()"
   ]
  },
  {
   "cell_type": "code",
   "execution_count": 79,
   "id": "98e72814",
   "metadata": {},
   "outputs": [
    {
     "data": {
      "text/plain": [
       "dict_items([('name', 'Memusi Ntore'), ('weekly intake', 5), ('favorite flavor', ['Cherry', 'Bananas'])])"
      ]
     },
     "execution_count": 79,
     "metadata": {},
     "output_type": "execute_result"
    }
   ],
   "source": [
    "dict_cream.items()\n",
    "\n",
    "# each key/value pair is an item in the dictionary"
   ]
  },
  {
   "cell_type": "code",
   "execution_count": 83,
   "id": "8e4c648b",
   "metadata": {},
   "outputs": [
    {
     "ename": "KeyError",
     "evalue": "0",
     "output_type": "error",
     "traceback": [
      "\u001b[1;31m---------------------------------------------------------------------------\u001b[0m",
      "\u001b[1;31mKeyError\u001b[0m                                  Traceback (most recent call last)",
      "Cell \u001b[1;32mIn[83], line 1\u001b[0m\n\u001b[1;32m----> 1\u001b[0m \u001b[43mdict_cream\u001b[49m\u001b[43m[\u001b[49m\u001b[38;5;241;43m0\u001b[39;49m\u001b[43m]\u001b[49m\n",
      "\u001b[1;31mKeyError\u001b[0m: 0"
     ]
    }
   ],
   "source": [
    "dict_cream[0]"
   ]
  },
  {
   "cell_type": "code",
   "execution_count": 81,
   "id": "f18c5e4f",
   "metadata": {},
   "outputs": [],
   "source": [
    "# instead of calling specific elements in the dictionary by index, you have to call them by key"
   ]
  },
  {
   "cell_type": "code",
   "execution_count": 84,
   "id": "7638c925",
   "metadata": {},
   "outputs": [
    {
     "data": {
      "text/plain": [
       "'Memusi Ntore'"
      ]
     },
     "execution_count": 84,
     "metadata": {},
     "output_type": "execute_result"
    }
   ],
   "source": [
    "dict_cream['name']"
   ]
  },
  {
   "cell_type": "code",
   "execution_count": 85,
   "id": "467fec77",
   "metadata": {},
   "outputs": [
    {
     "name": "stdout",
     "output_type": "stream",
     "text": [
      "{'name': 'Camila Morales', 'weekly intake': 5, 'favorite flavor': ['Cherry', 'Bananas']}\n"
     ]
    }
   ],
   "source": [
    "# you can also update a dictionary like so:\n",
    "\n",
    "dict_cream['name'] = 'Camila Morales'\n",
    "\n",
    "print(dict_cream)"
   ]
  },
  {
   "cell_type": "code",
   "execution_count": 88,
   "id": "2aebf79d",
   "metadata": {},
   "outputs": [
    {
     "name": "stdout",
     "output_type": "stream",
     "text": [
      "{'name': 'Camila Morales', 'weekly intake': 7, 'favorite flavor': ['Cherry', 'Bananas'], 'music': ['Country', 'Grammer'], 'age': 30, 'weight': 245}\n"
     ]
    }
   ],
   "source": [
    "# it's also possible to update all of the items in a dictionary at once\n",
    "\n",
    "dict_cream.update({'name': 'Camila Morales', 'weekly intake': 7, 'music': ['Country', 'Grammer'], 'age': 30, 'weight': 245})\n",
    "\n",
    "print(dict_cream)"
   ]
  },
  {
   "cell_type": "code",
   "execution_count": 89,
   "id": "c46a9cd9",
   "metadata": {},
   "outputs": [
    {
     "name": "stdout",
     "output_type": "stream",
     "text": [
      "{'name': 'Camila Morales', 'favorite flavor': ['Cherry', 'Bananas'], 'music': ['Country', 'Grammer'], 'age': 30, 'weight': 245}\n"
     ]
    }
   ],
   "source": [
    "# you can also delete elements in a dictionary\n",
    "\n",
    "del dict_cream['weekly intake']\n",
    "\n",
    "print(dict_cream)"
   ]
  },
  {
   "cell_type": "code",
   "execution_count": null,
   "id": "8e7b713d",
   "metadata": {},
   "outputs": [],
   "source": []
  },
  {
   "cell_type": "code",
   "execution_count": null,
   "id": "d269197c",
   "metadata": {},
   "outputs": [],
   "source": []
  }
 ],
 "metadata": {
  "kernelspec": {
   "display_name": "Python 3 (ipykernel)",
   "language": "python",
   "name": "python3"
  },
  "language_info": {
   "codemirror_mode": {
    "name": "ipython",
    "version": 3
   },
   "file_extension": ".py",
   "mimetype": "text/x-python",
   "name": "python",
   "nbconvert_exporter": "python",
   "pygments_lexer": "ipython3",
   "version": "3.10.9"
  }
 },
 "nbformat": 4,
 "nbformat_minor": 5
}
