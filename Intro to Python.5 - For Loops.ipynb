{
 "cells": [
  {
   "cell_type": "markdown",
   "id": "7f809bfb",
   "metadata": {},
   "source": [
    "# For Loops"
   ]
  },
  {
   "cell_type": "code",
   "execution_count": 16,
   "id": "358cca7f",
   "metadata": {},
   "outputs": [],
   "source": [
    "# looping through a list"
   ]
  },
  {
   "cell_type": "code",
   "execution_count": 1,
   "id": "3cd4defc",
   "metadata": {},
   "outputs": [],
   "source": [
    "integers = [1,2,3,4,5]"
   ]
  },
  {
   "cell_type": "code",
   "execution_count": 2,
   "id": "bf756052",
   "metadata": {},
   "outputs": [
    {
     "name": "stdout",
     "output_type": "stream",
     "text": [
      "11\n",
      "12\n",
      "13\n",
      "14\n",
      "15\n"
     ]
    }
   ],
   "source": [
    "for number in integers:\n",
    "    print(number+10)"
   ]
  },
  {
   "cell_type": "code",
   "execution_count": 4,
   "id": "5a79bc3f",
   "metadata": {},
   "outputs": [
    {
     "name": "stdout",
     "output_type": "stream",
     "text": [
      "yep!\n",
      "yep!\n",
      "yep!\n",
      "yep!\n",
      "yep!\n"
     ]
    }
   ],
   "source": [
    "for number in integers:\n",
    "    print('yep!')"
   ]
  },
  {
   "cell_type": "code",
   "execution_count": 5,
   "id": "4804e9ed",
   "metadata": {},
   "outputs": [
    {
     "name": "stdout",
     "output_type": "stream",
     "text": [
      "2\n",
      "4\n",
      "6\n",
      "8\n",
      "10\n"
     ]
    }
   ],
   "source": [
    "for i in integers:\n",
    "    print(i+i)"
   ]
  },
  {
   "cell_type": "code",
   "execution_count": 6,
   "id": "309e1c1e",
   "metadata": {},
   "outputs": [
    {
     "name": "stdout",
     "output_type": "stream",
     "text": [
      "1\n",
      "4\n",
      "9\n",
      "16\n",
      "25\n"
     ]
    }
   ],
   "source": [
    "for i in integers:\n",
    "    print(i**2)"
   ]
  },
  {
   "cell_type": "code",
   "execution_count": 17,
   "id": "bed56e4d",
   "metadata": {},
   "outputs": [],
   "source": [
    "# looping through a dictionary"
   ]
  },
  {
   "cell_type": "code",
   "execution_count": 7,
   "id": "a511b6de",
   "metadata": {},
   "outputs": [],
   "source": [
    "ice_cream_dict = {'name': 'Memusi Ntore', 'weekly intake': 5, 'favorite ice creams': ['Cherry', 'Banana']}"
   ]
  },
  {
   "cell_type": "code",
   "execution_count": 13,
   "id": "5691345d",
   "metadata": {},
   "outputs": [
    {
     "name": "stdout",
     "output_type": "stream",
     "text": [
      "Memusi Ntore\n",
      "5\n",
      "['Cherry', 'Banana']\n"
     ]
    }
   ],
   "source": [
    "for cream in ice_cream_dict.values():\n",
    "    print(cream)"
   ]
  },
  {
   "cell_type": "code",
   "execution_count": 14,
   "id": "f2c562ec",
   "metadata": {},
   "outputs": [
    {
     "name": "stdout",
     "output_type": "stream",
     "text": [
      "name\n",
      "weekly intake\n",
      "favorite ice creams\n"
     ]
    }
   ],
   "source": [
    "for cream in ice_cream_dict.keys():\n",
    "    print(cream)"
   ]
  },
  {
   "cell_type": "code",
   "execution_count": 15,
   "id": "ac1acafe",
   "metadata": {},
   "outputs": [
    {
     "name": "stdout",
     "output_type": "stream",
     "text": [
      "name -> Memusi Ntore\n",
      "weekly intake -> 5\n",
      "favorite ice creams -> ['Cherry', 'Banana']\n"
     ]
    }
   ],
   "source": [
    "for ice, cream in ice_cream_dict.items():\n",
    "    print(ice, '->', cream)"
   ]
  },
  {
   "cell_type": "code",
   "execution_count": 19,
   "id": "843cc751",
   "metadata": {},
   "outputs": [],
   "source": [
    "# nested loops, or loops within loops"
   ]
  },
  {
   "cell_type": "code",
   "execution_count": 20,
   "id": "6658606f",
   "metadata": {},
   "outputs": [],
   "source": [
    "flavors = ['Cherry', 'Banana', 'Oreo']\n",
    "toppings = ['sprinkles', 'graham crackers', 'gummy bears']"
   ]
  },
  {
   "cell_type": "code",
   "execution_count": 21,
   "id": "1ebbe1d3",
   "metadata": {},
   "outputs": [
    {
     "name": "stdout",
     "output_type": "stream",
     "text": [
      "Cherry topped with sprinkles\n",
      "Cherry topped with graham crackers\n",
      "Cherry topped with gummy bears\n",
      "Banana topped with sprinkles\n",
      "Banana topped with graham crackers\n",
      "Banana topped with gummy bears\n",
      "Oreo topped with sprinkles\n",
      "Oreo topped with graham crackers\n",
      "Oreo topped with gummy bears\n"
     ]
    }
   ],
   "source": [
    "for one in flavors:\n",
    "    for two in toppings:\n",
    "        print(one, \"topped with\", two)"
   ]
  },
  {
   "cell_type": "code",
   "execution_count": null,
   "id": "2828a8ae",
   "metadata": {},
   "outputs": [],
   "source": []
  },
  {
   "cell_type": "code",
   "execution_count": null,
   "id": "d08a35d4",
   "metadata": {},
   "outputs": [],
   "source": []
  },
  {
   "cell_type": "code",
   "execution_count": null,
   "id": "01f5fed7",
   "metadata": {},
   "outputs": [],
   "source": []
  },
  {
   "cell_type": "code",
   "execution_count": null,
   "id": "661859a7",
   "metadata": {},
   "outputs": [],
   "source": []
  },
  {
   "cell_type": "code",
   "execution_count": null,
   "id": "ccf9e7c4",
   "metadata": {},
   "outputs": [],
   "source": []
  },
  {
   "cell_type": "code",
   "execution_count": null,
   "id": "97365126",
   "metadata": {},
   "outputs": [],
   "source": []
  }
 ],
 "metadata": {
  "kernelspec": {
   "display_name": "Python 3 (ipykernel)",
   "language": "python",
   "name": "python3"
  },
  "language_info": {
   "codemirror_mode": {
    "name": "ipython",
    "version": 3
   },
   "file_extension": ".py",
   "mimetype": "text/x-python",
   "name": "python",
   "nbconvert_exporter": "python",
   "pygments_lexer": "ipython3",
   "version": "3.10.9"
  }
 },
 "nbformat": 4,
 "nbformat_minor": 5
}
