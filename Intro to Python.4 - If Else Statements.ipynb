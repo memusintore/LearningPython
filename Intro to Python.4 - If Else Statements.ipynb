{
 "cells": [
  {
   "cell_type": "markdown",
   "id": "ca9a5578",
   "metadata": {},
   "source": [
    "# If - Elif - Else Statements"
   ]
  },
  {
   "cell_type": "code",
   "execution_count": 1,
   "id": "9658daba",
   "metadata": {},
   "outputs": [
    {
     "name": "stdout",
     "output_type": "stream",
     "text": [
      "It worked!\n"
     ]
    }
   ],
   "source": [
    "if 25 > 10: \n",
    "    print('It worked!')"
   ]
  },
  {
   "cell_type": "code",
   "execution_count": 2,
   "id": "0ad6a198",
   "metadata": {},
   "outputs": [],
   "source": [
    "if 25 < 10: \n",
    "    print('It worked!')"
   ]
  },
  {
   "cell_type": "code",
   "execution_count": 3,
   "id": "a5a7e654",
   "metadata": {},
   "outputs": [],
   "source": [
    "# since the if statement is not true, the code has no output"
   ]
  },
  {
   "cell_type": "code",
   "execution_count": 4,
   "id": "b54d4e10",
   "metadata": {},
   "outputs": [
    {
     "name": "stdout",
     "output_type": "stream",
     "text": [
      "It did not work...\n"
     ]
    }
   ],
   "source": [
    "if 25 < 10: \n",
    "    print('It worked!')\n",
    "else:\n",
    "    print('It did not work...')"
   ]
  },
  {
   "cell_type": "code",
   "execution_count": 5,
   "id": "2088f5da",
   "metadata": {},
   "outputs": [
    {
     "name": "stdout",
     "output_type": "stream",
     "text": [
      "It worked!\n"
     ]
    }
   ],
   "source": [
    "if 25 > 10: \n",
    "    print('It worked!')\n",
    "else:\n",
    "    print('It did not work...')"
   ]
  },
  {
   "cell_type": "code",
   "execution_count": 6,
   "id": "6027bee1",
   "metadata": {},
   "outputs": [
    {
     "name": "stdout",
     "output_type": "stream",
     "text": [
      "elif worked!\n"
     ]
    }
   ],
   "source": [
    "if 25 < 10: \n",
    "    print('It worked!')\n",
    "elif 25 < 30:\n",
    "    print('elif worked!')\n",
    "else:\n",
    "    print('It did not work...')"
   ]
  },
  {
   "cell_type": "code",
   "execution_count": 7,
   "id": "dfb81df5",
   "metadata": {},
   "outputs": [
    {
     "name": "stdout",
     "output_type": "stream",
     "text": [
      "elif 3 worked!\n"
     ]
    }
   ],
   "source": [
    "if 25 < 10: \n",
    "    print('It worked!')\n",
    "elif 25 < 22:\n",
    "    print('elif worked!')\n",
    "elif 25 < 24:\n",
    "    print('elif 2 worked!')\n",
    "elif 25 < 26:\n",
    "    print('elif 3 worked!')\n",
    "elif 25 < 28:\n",
    "    print('elif 4 worked!')\n",
    "elif 25 < 30:\n",
    "    print('elif 5 worked!')\n",
    "else:\n",
    "    print('It did not work...')"
   ]
  },
  {
   "cell_type": "code",
   "execution_count": 8,
   "id": "f57a2c70",
   "metadata": {},
   "outputs": [
    {
     "name": "stdout",
     "output_type": "stream",
     "text": [
      "It worked!\n"
     ]
    }
   ],
   "source": [
    "if 25 < 10 or (1 < 3): \n",
    "    print('It worked!')\n",
    "elif 25 < 22:\n",
    "    print('elif worked!')\n",
    "elif 25 < 24:\n",
    "    print('elif 2 worked!')\n",
    "elif 25 < 26:\n",
    "    print('elif 3 worked!')\n",
    "elif 25 < 28:\n",
    "    print('elif 4 worked!')\n",
    "elif 25 < 30:\n",
    "    print('elif 5 worked!')\n",
    "else:\n",
    "    print('It did not work...')"
   ]
  },
  {
   "cell_type": "code",
   "execution_count": 12,
   "id": "71199fe8",
   "metadata": {},
   "outputs": [],
   "source": [
    "# you can also write if statements on one line of code"
   ]
  },
  {
   "cell_type": "code",
   "execution_count": 11,
   "id": "aa2a20f8",
   "metadata": {},
   "outputs": [
    {
     "name": "stdout",
     "output_type": "stream",
     "text": [
      "It did not work...\n"
     ]
    }
   ],
   "source": [
    "print('It worked!') if 10 >= 30 else print('It did not work...')"
   ]
  },
  {
   "cell_type": "code",
   "execution_count": 13,
   "id": "4f6bad16",
   "metadata": {},
   "outputs": [],
   "source": [
    "# you can also type a nested if statement inside of another if statement"
   ]
  },
  {
   "cell_type": "code",
   "execution_count": 14,
   "id": "1f9d7a13",
   "metadata": {},
   "outputs": [
    {
     "name": "stdout",
     "output_type": "stream",
     "text": [
      "It worked!\n",
      "This nested if statement worked!\n"
     ]
    }
   ],
   "source": [
    "if 25 < 10 or (1 < 3): \n",
    "    print('It worked!')\n",
    "    if 10> 5:\n",
    "        print('This nested if statement worked!')\n",
    "elif 25 < 22:\n",
    "    print('elif worked!')\n",
    "elif 25 < 24:\n",
    "    print('elif 2 worked!')\n",
    "elif 25 < 26:\n",
    "    print('elif 3 worked!')\n",
    "elif 25 < 28:\n",
    "    print('elif 4 worked!')\n",
    "elif 25 < 30:\n",
    "    print('elif 5 worked!')\n",
    "else:\n",
    "    print('It did not work...')"
   ]
  },
  {
   "cell_type": "code",
   "execution_count": 16,
   "id": "07e208bd",
   "metadata": {},
   "outputs": [],
   "source": [
    "# since the first if statement was true, then after printing the first output it moves onto the nested if statement and \n",
    "# checks to see if that statement is true as well"
   ]
  },
  {
   "cell_type": "code",
   "execution_count": 15,
   "id": "2f9621a9",
   "metadata": {},
   "outputs": [
    {
     "name": "stdout",
     "output_type": "stream",
     "text": [
      "elif 3 worked!\n"
     ]
    }
   ],
   "source": [
    "if 25 < 10 and (1 < 3): \n",
    "    print('It worked!')\n",
    "    if 10> 5:\n",
    "        print('This nested if statement worked!')\n",
    "elif 25 < 22:\n",
    "    print('elif worked!')\n",
    "elif 25 < 24:\n",
    "    print('elif 2 worked!')\n",
    "elif 25 < 26:\n",
    "    print('elif 3 worked!')\n",
    "elif 25 < 28:\n",
    "    print('elif 4 worked!')\n",
    "elif 25 < 30:\n",
    "    print('elif 5 worked!')\n",
    "else:\n",
    "    print('It did not work...')"
   ]
  },
  {
   "cell_type": "code",
   "execution_count": 17,
   "id": "8b6053ac",
   "metadata": {},
   "outputs": [],
   "source": [
    "# since the first if statement was false, the code will skip the nested if statement"
   ]
  },
  {
   "cell_type": "code",
   "execution_count": null,
   "id": "51670076",
   "metadata": {},
   "outputs": [],
   "source": []
  }
 ],
 "metadata": {
  "kernelspec": {
   "display_name": "Python 3 (ipykernel)",
   "language": "python",
   "name": "python3"
  },
  "language_info": {
   "codemirror_mode": {
    "name": "ipython",
    "version": 3
   },
   "file_extension": ".py",
   "mimetype": "text/x-python",
   "name": "python",
   "nbconvert_exporter": "python",
   "pygments_lexer": "ipython3",
   "version": "3.10.9"
  }
 },
 "nbformat": 4,
 "nbformat_minor": 5
}
