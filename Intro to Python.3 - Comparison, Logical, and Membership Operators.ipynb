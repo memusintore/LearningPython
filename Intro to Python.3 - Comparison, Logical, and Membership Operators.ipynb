{
 "cells": [
  {
   "cell_type": "markdown",
   "id": "e7bdc60a",
   "metadata": {},
   "source": [
    "# Comparison Operators"
   ]
  },
  {
   "cell_type": "code",
   "execution_count": 1,
   "id": "616db139",
   "metadata": {},
   "outputs": [
    {
     "ename": "SyntaxError",
     "evalue": "cannot assign to literal here. Maybe you meant '==' instead of '='? (260838114.py, line 1)",
     "output_type": "error",
     "traceback": [
      "\u001b[1;36m  Cell \u001b[1;32mIn[1], line 1\u001b[1;36m\u001b[0m\n\u001b[1;33m    10 = 10\u001b[0m\n\u001b[1;37m    ^\u001b[0m\n\u001b[1;31mSyntaxError\u001b[0m\u001b[1;31m:\u001b[0m cannot assign to literal here. Maybe you meant '==' instead of '='?\n"
     ]
    }
   ],
   "source": [
    "10 = 10"
   ]
  },
  {
   "cell_type": "code",
   "execution_count": 2,
   "id": "14f0347e",
   "metadata": {},
   "outputs": [
    {
     "data": {
      "text/plain": [
       "True"
      ]
     },
     "execution_count": 2,
     "metadata": {},
     "output_type": "execute_result"
    }
   ],
   "source": [
    "10 == 10"
   ]
  },
  {
   "cell_type": "code",
   "execution_count": 3,
   "id": "e2d35474",
   "metadata": {},
   "outputs": [
    {
     "data": {
      "text/plain": [
       "False"
      ]
     },
     "execution_count": 3,
     "metadata": {},
     "output_type": "execute_result"
    }
   ],
   "source": [
    "10 == 50"
   ]
  },
  {
   "cell_type": "code",
   "execution_count": 4,
   "id": "9b0fae29",
   "metadata": {},
   "outputs": [
    {
     "data": {
      "text/plain": [
       "True"
      ]
     },
     "execution_count": 4,
     "metadata": {},
     "output_type": "execute_result"
    }
   ],
   "source": [
    "10 != 50"
   ]
  },
  {
   "cell_type": "code",
   "execution_count": 5,
   "id": "33e79db1",
   "metadata": {},
   "outputs": [
    {
     "data": {
      "text/plain": [
       "False"
      ]
     },
     "execution_count": 5,
     "metadata": {},
     "output_type": "execute_result"
    }
   ],
   "source": [
    "'Vanilla' == 'Chocolate'"
   ]
  },
  {
   "cell_type": "code",
   "execution_count": 6,
   "id": "88569b5d",
   "metadata": {},
   "outputs": [
    {
     "data": {
      "text/plain": [
       "True"
      ]
     },
     "execution_count": 6,
     "metadata": {},
     "output_type": "execute_result"
    }
   ],
   "source": [
    "x = 'Vanilla'\n",
    "y = 'Chocolate'\n",
    "\n",
    "x!= y"
   ]
  },
  {
   "cell_type": "code",
   "execution_count": 7,
   "id": "a57ecd04",
   "metadata": {},
   "outputs": [
    {
     "data": {
      "text/plain": [
       "True"
      ]
     },
     "execution_count": 7,
     "metadata": {},
     "output_type": "execute_result"
    }
   ],
   "source": [
    "10 < 50"
   ]
  },
  {
   "cell_type": "code",
   "execution_count": 8,
   "id": "97d473c6",
   "metadata": {},
   "outputs": [
    {
     "data": {
      "text/plain": [
       "False"
      ]
     },
     "execution_count": 8,
     "metadata": {},
     "output_type": "execute_result"
    }
   ],
   "source": [
    "10 < 10"
   ]
  },
  {
   "cell_type": "code",
   "execution_count": 10,
   "id": "22db6420",
   "metadata": {},
   "outputs": [
    {
     "data": {
      "text/plain": [
       "True"
      ]
     },
     "execution_count": 10,
     "metadata": {},
     "output_type": "execute_result"
    }
   ],
   "source": [
    "10 <= 10"
   ]
  },
  {
   "cell_type": "code",
   "execution_count": 12,
   "id": "40db3edd",
   "metadata": {},
   "outputs": [
    {
     "data": {
      "text/plain": [
       "True"
      ]
     },
     "execution_count": 12,
     "metadata": {},
     "output_type": "execute_result"
    }
   ],
   "source": [
    "50 >= 10"
   ]
  },
  {
   "cell_type": "markdown",
   "id": "00c94555",
   "metadata": {},
   "source": [
    "# Logical Operators"
   ]
  },
  {
   "cell_type": "code",
   "execution_count": 13,
   "id": "8b98d27d",
   "metadata": {},
   "outputs": [
    {
     "data": {
      "text/plain": [
       "False"
      ]
     },
     "execution_count": 13,
     "metadata": {},
     "output_type": "execute_result"
    }
   ],
   "source": [
    "(10 > 50) and (50 > 10)"
   ]
  },
  {
   "cell_type": "code",
   "execution_count": 14,
   "id": "e99a6fd3",
   "metadata": {},
   "outputs": [
    {
     "data": {
      "text/plain": [
       "True"
      ]
     },
     "execution_count": 14,
     "metadata": {},
     "output_type": "execute_result"
    }
   ],
   "source": [
    "(10 > 50) or (50 > 10)"
   ]
  },
  {
   "cell_type": "code",
   "execution_count": 19,
   "id": "b1378b00",
   "metadata": {},
   "outputs": [
    {
     "data": {
      "text/plain": [
       "True"
      ]
     },
     "execution_count": 19,
     "metadata": {},
     "output_type": "execute_result"
    }
   ],
   "source": [
    "# this comes out as true because the 'V' has a higher assigned point value, 22, than 'C', which is 3. \n",
    "# this is based on their order in the alphabet\n",
    "\n",
    "('Vanilla' > 'Chocolate') or (50 > 10)"
   ]
  },
  {
   "cell_type": "code",
   "execution_count": 16,
   "id": "4570b3a1",
   "metadata": {},
   "outputs": [
    {
     "data": {
      "text/plain": [
       "True"
      ]
     },
     "execution_count": 16,
     "metadata": {},
     "output_type": "execute_result"
    }
   ],
   "source": [
    "('Vanilla' > 'Chocolate') and (50 > 10)"
   ]
  },
  {
   "cell_type": "code",
   "execution_count": 17,
   "id": "7f57ab2c",
   "metadata": {},
   "outputs": [
    {
     "data": {
      "text/plain": [
       "True"
      ]
     },
     "execution_count": 17,
     "metadata": {},
     "output_type": "execute_result"
    }
   ],
   "source": [
    "(50 > 10)"
   ]
  },
  {
   "cell_type": "code",
   "execution_count": 18,
   "id": "e4b63c7f",
   "metadata": {},
   "outputs": [
    {
     "data": {
      "text/plain": [
       "False"
      ]
     },
     "execution_count": 18,
     "metadata": {},
     "output_type": "execute_result"
    }
   ],
   "source": [
    "not(50 > 10)"
   ]
  },
  {
   "cell_type": "markdown",
   "id": "816279c8",
   "metadata": {},
   "source": [
    "# Membership Operators"
   ]
  },
  {
   "cell_type": "code",
   "execution_count": 20,
   "id": "1f955894",
   "metadata": {},
   "outputs": [
    {
     "data": {
      "text/plain": [
       "True"
      ]
     },
     "execution_count": 20,
     "metadata": {},
     "output_type": "execute_result"
    }
   ],
   "source": [
    "# use the \"in\" operator to check if a specified value is present in an object - variable, list, set, tuple, dict, etc.\n",
    "# use \"not in\" to check if a specified value is not present...\n",
    "\n",
    "ice_cream = 'I love Chocolate ice cream'\n",
    "\n",
    "'love' in ice_cream"
   ]
  },
  {
   "cell_type": "code",
   "execution_count": 21,
   "id": "2bff0a2e",
   "metadata": {},
   "outputs": [
    {
     "data": {
      "text/plain": [
       "True"
      ]
     },
     "execution_count": 21,
     "metadata": {},
     "output_type": "execute_result"
    }
   ],
   "source": [
    "'love' in 'I love Chocolate ice cream'"
   ]
  },
  {
   "cell_type": "code",
   "execution_count": 22,
   "id": "a08c193c",
   "metadata": {},
   "outputs": [],
   "source": [
    "my_list = [1,2,3,4,5,6,7,8,9]"
   ]
  },
  {
   "cell_type": "code",
   "execution_count": 23,
   "id": "bafd9bb3",
   "metadata": {},
   "outputs": [
    {
     "data": {
      "text/plain": [
       "True"
      ]
     },
     "execution_count": 23,
     "metadata": {},
     "output_type": "execute_result"
    }
   ],
   "source": [
    "3 in my_list"
   ]
  },
  {
   "cell_type": "code",
   "execution_count": 24,
   "id": "33757e27",
   "metadata": {},
   "outputs": [
    {
     "data": {
      "text/plain": [
       "False"
      ]
     },
     "execution_count": 24,
     "metadata": {},
     "output_type": "execute_result"
    }
   ],
   "source": [
    "11 in my_list"
   ]
  },
  {
   "cell_type": "code",
   "execution_count": 25,
   "id": "5c27f2c4",
   "metadata": {},
   "outputs": [
    {
     "data": {
      "text/plain": [
       "True"
      ]
     },
     "execution_count": 25,
     "metadata": {},
     "output_type": "execute_result"
    }
   ],
   "source": [
    "11 not in my_list"
   ]
  },
  {
   "cell_type": "code",
   "execution_count": 26,
   "id": "960358bb",
   "metadata": {},
   "outputs": [
    {
     "data": {
      "text/plain": [
       "True"
      ]
     },
     "execution_count": 26,
     "metadata": {},
     "output_type": "execute_result"
    }
   ],
   "source": [
    "wanted = 5\n",
    "\n",
    "wanted in my_list"
   ]
  },
  {
   "cell_type": "code",
   "execution_count": 27,
   "id": "debfe293",
   "metadata": {},
   "outputs": [
    {
     "data": {
      "text/plain": [
       "False"
      ]
     },
     "execution_count": 27,
     "metadata": {},
     "output_type": "execute_result"
    }
   ],
   "source": [
    "wanted not in my_list"
   ]
  },
  {
   "cell_type": "code",
   "execution_count": null,
   "id": "70552469",
   "metadata": {},
   "outputs": [],
   "source": []
  }
 ],
 "metadata": {
  "kernelspec": {
   "display_name": "Python 3 (ipykernel)",
   "language": "python",
   "name": "python3"
  },
  "language_info": {
   "codemirror_mode": {
    "name": "ipython",
    "version": 3
   },
   "file_extension": ".py",
   "mimetype": "text/x-python",
   "name": "python",
   "nbconvert_exporter": "python",
   "pygments_lexer": "ipython3",
   "version": "3.10.9"
  }
 },
 "nbformat": 4,
 "nbformat_minor": 5
}
